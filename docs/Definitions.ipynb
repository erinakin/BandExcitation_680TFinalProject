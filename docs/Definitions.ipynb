{
 "cells": [
  {
   "cell_type": "code",
   "execution_count": null,
   "metadata": {},
   "outputs": [],
   "source": []
  },
  {
   "cell_type": "markdown",
   "metadata": {},
   "source": [
    "Domain Structures.\n",
    "Band Excitation:\n",
    "Piezoresponse Force Microscopy (PFM): measures the deflection caused by driving a voltage to the surface to the surface of a sample\n",
    "Inputs: X,Y, Driving VOltage(V), range of frequencies \n",
    "\n",
    "Ferroelectric switching: \n",
    "Ferroelectric switching is the reversible reorientation of spontaneous electric polarization domains in ferroelectric materials when exposed to an external electric field. This phenomenon is key to various applications, including non-volatile memory devices, and is characterized by the ability of certain materials to exhibit a switchable electric dipole moment.\n",
    "\n",
    "\n",
    "Detailed Explanation-\n",
    "In ferroelectric materials, domains with different polarization directions can exist. The switching process refers to the reorientation of these domains in response to an applied electric field. The method involves applying a perturbing electric field with a specific waveform to induce full switching of the material and then measuring the piezoresponse, which includes parameters related to polarization direction. This allows researchers to gain insights into the ferroelectric properties of the material at the nanoscale.\n",
    "\n",
    "Band Excitation Piezoresponse Force Microscopy (BE-PFM) advanced microscopy technique that employs a specialized excitation signal across a range of frequencies to precisely study and manipulate the piezoelectric response of materials at the nanoscale. It enables the characterization of ferroelectric and piezoelectric properties with enhanced sensitivity and accuracy, offering valuable insights into material behavior for various scientific and technological applications"
   ]
  },
  {
   "cell_type": "markdown",
   "metadata": {},
   "source": []
  }
 ],
 "metadata": {
  "language_info": {
   "name": "python"
  }
 },
 "nbformat": 4,
 "nbformat_minor": 2
}
