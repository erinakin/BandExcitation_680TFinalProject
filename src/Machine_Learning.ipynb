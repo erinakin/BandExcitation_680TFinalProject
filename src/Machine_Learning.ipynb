{
 "cells": [
  {
   "cell_type": "markdown",
   "metadata": {},
   "source": [
    "# Machine Learning Application\n",
    "\n",
    "## Objective\n",
    "This assignment focuses on applying machine learning techniques to band excitation dataset to solve a specific problem. I extend my initial data visualization, preprocess my data, train machine learning models, and evaluate their performance. The goal is to deepen my understanding of machine learning workflows and to enhance my skills in data handling and model evaluation.\n"
   ]
  },
  {
   "cell_type": "markdown",
   "metadata": {},
   "source": []
  }
 ],
 "metadata": {
  "kernelspec": {
   "display_name": "Hw4_data_vis",
   "language": "python",
   "name": "python3"
  },
  "language_info": {
   "name": "python",
   "version": "3.12.0"
  }
 },
 "nbformat": 4,
 "nbformat_minor": 2
}
